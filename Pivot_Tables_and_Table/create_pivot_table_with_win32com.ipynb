{
 "cells": [
  {
   "cell_type": "markdown",
   "metadata": {},
   "source": [
    "# How to Create a Pivot Table in Excel with the Python win32com Module\n",
    "\n",
    "- Notebook Author: [Trenton McKinney][1]\n",
    "- Jupyter Notebook: [create_pivot_table-with_win32com.ipynb][2]\n",
    "- This implementation is for Windows systems with Excel and Python 3.6 or greater.\n",
    "- The most helpful way to figure out the proper Excel methods to use, is record a step-by-step Macro in Excel, while creating a pivot table in the form you want.\n",
    "- This code is most useful for creating a pivot table that has to be run on a routine basis in a file with existing data.\n",
    "\n",
    "\n",
    "  [1]: https://trenton3983.github.io/\n",
    "  [2]: https://github.com/trenton3983/Excel_Automation_with_Python/tree/master/Pivot_Tables_and_Table"
   ]
  },
  {
   "cell_type": "markdown",
   "metadata": {},
   "source": [
    "## Excel Data & Pivot Table"
   ]
  },
  {
   "cell_type": "markdown",
   "metadata": {},
   "source": [
    "- The example data is in the following long form\n",
    " - ![long_data][1]\n",
    "- The goal is to implement a python script to create the following Pivot Table\n",
    " - ![pivot_table][2]\n",
    "- These are the Pivot Table Fields\n",
    " - ![fields][3]\n",
    "\n",
    "\n",
    "\n",
    "  [1]: https://raw.githubusercontent.com/trenton3983/Excel_Automation_with_Python/master/Pivot_Tables_and_Table/Images/long_data.JPG\n",
    "  [2]: https://raw.githubusercontent.com/trenton3983/Excel_Automation_with_Python/master/Pivot_Tables_and_Table/Images/long_data_pivot_table.JPG\n",
    "  [3]: https://raw.githubusercontent.com/trenton3983/Excel_Automation_with_Python/master/Pivot_Tables_and_Table/Images/pivot_table_fields.JPG"
   ]
  },
  {
   "cell_type": "markdown",
   "metadata": {},
   "source": [
    "# Python Code"
   ]
  },
  {
   "cell_type": "markdown",
   "metadata": {},
   "source": [
    "## Imports"
   ]
  },
  {
   "cell_type": "code",
   "execution_count": null,
   "metadata": {},
   "outputs": [],
   "source": [
    "import win32com.client as win32\n",
    "from pywintypes import com_error\n",
    "from pathlib import Path\n",
    "import sys\n",
    "import pandas as pd  # only used for synthetic data\n",
    "import numpy as np  # only used for synthetic data\n",
    "import random  # only used for synthetic data\n",
    "from datetime import datetime  # only used for synthetic data\n",
    "\n",
    "win32c = win32.constants"
   ]
  },
  {
   "cell_type": "markdown",
   "metadata": {},
   "source": [
    "## Function to create synthetic data\n",
    "\n",
    "- This function is only required to create the test data"
   ]
  },
  {
   "cell_type": "code",
   "execution_count": null,
   "metadata": {},
   "outputs": [],
   "source": [
    "def create_test_excel_file(f_path: Path, f_name: str, sheet_name: str):\n",
    "    \n",
    "    filename = f_path / f_name\n",
    "    random.seed(365)\n",
    "    np.random.seed(365)\n",
    "    number_of_data_rows = 1000\n",
    "    \n",
    "    # create list of 31 dates\n",
    "    dates = pd.bdate_range(datetime(2020, 7, 1), freq='1d', periods=31).tolist()\n",
    "\n",
    "    data = {'date': [random.choice(dates) for _ in range(number_of_data_rows)],\n",
    "            'expense': [random.choice(['business', 'personal']) for _ in range(number_of_data_rows)],\n",
    "            'products': [random.choice(['ribeye', 'coffee', 'salmon', 'pie']) for _ in range(number_of_data_rows)],\n",
    "            'price': np.random.normal(15, 5, size=(1, number_of_data_rows))[0]}\n",
    "\n",
    "    # create the dataframe and save it to Excel\n",
    "    pd.DataFrame(data).to_excel(filename, index=False, sheet_name=sheet_name, float_format='%.2f')"
   ]
  },
  {
   "cell_type": "markdown",
   "metadata": {},
   "source": [
    "## Function to create the pivot table"
   ]
  },
  {
   "cell_type": "code",
   "execution_count": null,
   "metadata": {},
   "outputs": [],
   "source": [
    "def pivot_table(wb: object, ws1: object, pt_ws: object, ws_name: str, pt_name: str, pt_rows: list, pt_cols: list, pt_filters: list, pt_fields: list):\n",
    "    \"\"\"\n",
    "    wb = workbook1 reference\n",
    "    ws1 = worksheet1\n",
    "    pt_ws = pivot table worksheet number\n",
    "    ws_name = pivot table worksheet name\n",
    "    pt_name = name given to pivot table\n",
    "    pt_rows, pt_cols, pt_filters, pt_fields: values selected for filling the pivot tables\n",
    "    \"\"\"\n",
    "\n",
    "    # pivot table location\n",
    "    pt_loc = len(pt_filters) + 2\n",
    "    \n",
    "    # grab the pivot table source data\n",
    "    pc = wb.PivotCaches().Create(SourceType=win32c.xlDatabase, SourceData=ws1.UsedRange)\n",
    "    \n",
    "    # create the pivot table object\n",
    "    pc.CreatePivotTable(TableDestination=f'{ws_name}!R{pt_loc}C1', TableName=pt_name)\n",
    "\n",
    "    # selecte the pivot table work sheet and location to create the pivot table\n",
    "    pt_ws.Select()\n",
    "    pt_ws.Cells(pt_loc, 1).Select()\n",
    "\n",
    "    # Sets the rows, columns and filters of the pivot table\n",
    "    for field_list, field_r in ((pt_filters, win32c.xlPageField), (pt_rows, win32c.xlRowField), (pt_cols, win32c.xlColumnField)):\n",
    "        for i, value in enumerate(field_list):\n",
    "            pt_ws.PivotTables(pt_name).PivotFields(value).Orientation = field_r\n",
    "            pt_ws.PivotTables(pt_name).PivotFields(value).Position = i + 1\n",
    "\n",
    "    # Sets the Values of the pivot table\n",
    "    for field in pt_fields:\n",
    "        pt_ws.PivotTables(pt_name).AddDataField(pt_ws.PivotTables(pt_name).PivotFields(field[0]), field[1], field[2]).NumberFormat = field[3]\n",
    "\n",
    "    # Visiblity True or Valse\n",
    "    pt_ws.PivotTables(pt_name).ShowValuesRow = True\n",
    "    pt_ws.PivotTables(pt_name).ColumnGrand = True"
   ]
  },
  {
   "cell_type": "markdown",
   "metadata": {},
   "source": [
    "## Function to create Excel com object\n",
    "\n",
    "- To modify this code for a new data file, update:\n",
    " - `ws1`\n",
    " - `ws2_name`\n",
    " - `pt_name`\n",
    " - `pt_rows`\n",
    " - `pt_cols`\n",
    " - `pt_filters`\n",
    " - `pt_fields`"
   ]
  },
  {
   "cell_type": "code",
   "execution_count": null,
   "metadata": {},
   "outputs": [],
   "source": [
    "def run_excel(f_path: Path, f_name: str, sheet_name: str):\n",
    "\n",
    "    filename = f_path / f_name\n",
    "\n",
    "    # create excel object\n",
    "    excel = win32.gencache.EnsureDispatch('Excel.Application')\n",
    "\n",
    "    # excel can be visible or not\n",
    "    excel.Visible = True  # False\n",
    "    \n",
    "    # try except for file / path\n",
    "    try:\n",
    "        wb = excel.Workbooks.Open(filename)\n",
    "    except com_error as e:\n",
    "        if e.excepinfo[5] == -2146827284:\n",
    "            print(f'Failed to open spreadsheet.  Invalid filename or location: {filename}')\n",
    "        else:\n",
    "            raise e\n",
    "        sys.exit(1)\n",
    "\n",
    "    # set worksheet\n",
    "    ws1 = wb.Sheets('data')\n",
    "    \n",
    "    # Setup and call pivot_table\n",
    "    ws2_name = 'pivot_table'\n",
    "    wb.Sheets.Add().Name = ws2_name\n",
    "    ws2 = wb.Sheets(ws2_name)\n",
    "    \n",
    "    pt_name = 'example'  # must be a string\n",
    "    pt_rows = ['expense']  # must be a list\n",
    "    pt_cols = ['products']  # must be a list\n",
    "    pt_filters = ['date']  # must be a list\n",
    "    # [0]: field name [1]: pivot table column name [3]: calulation method [4]: number format\n",
    "    pt_fields = [['price', 'price: mean', win32c.xlAverage, '$#,##0.00'],  # must be a list of lists\n",
    "                 ['price', 'price: sum', win32c.xlSum, '$#,##0.00'],\n",
    "                 ['price', 'price: count', win32c.xlCount, '0']]\n",
    "    \n",
    "    pivot_table(wb, ws1, ws2, ws2_name, pt_name, pt_rows, pt_cols, pt_filters, pt_fields)\n",
    "    \n",
    "#     wb.Close(True)\n",
    "#     excel.Quit()"
   ]
  },
  {
   "cell_type": "markdown",
   "metadata": {},
   "source": [
    "## Main function to call other functions\n",
    "\n",
    "- To modify this code for a new data file, update:\n",
    " - `sheet_name`\n",
    " - `f_path`\n",
    " - `f_name`\n",
    " - Remove `create_test_excel_file`"
   ]
  },
  {
   "cell_type": "code",
   "execution_count": null,
   "metadata": {},
   "outputs": [],
   "source": [
    "def main():\n",
    "    # sheet name for data\n",
    "    sheet_name = 'data'  # update with sheet name from your file\n",
    "    # file path\n",
    "    f_path = Path.cwd()  # file in current working directory\n",
    "#   f_path = Path(r'c:\\...\\Documents')  # file located somewhere else\n",
    "    # excel file\n",
    "    f_name = 'test.xlsx'\n",
    "    \n",
    "    # function calls\n",
    "    create_test_excel_file(f_path, f_name, sheet_name)  # remove when running your own file\n",
    "    run_excel(f_path, f_name, sheet_name)"
   ]
  },
  {
   "cell_type": "markdown",
   "metadata": {},
   "source": [
    "## Call `def main`"
   ]
  },
  {
   "cell_type": "code",
   "execution_count": null,
   "metadata": {},
   "outputs": [],
   "source": [
    "main()"
   ]
  },
  {
   "cell_type": "markdown",
   "metadata": {},
   "source": [
    "# Visual Basic\n",
    "\n",
    "- Following is the visual basic code recorded while manually creating the pivot table"
   ]
  },
  {
   "cell_type": "markdown",
   "metadata": {},
   "source": [
    "## Select Source Data\n",
    "\n",
    "```vbnet\n",
    "Range(\"A1:D1\").Select\n",
    "Range(Selection, Selection.End(xlDown)).Select\n",
    "```"
   ]
  },
  {
   "cell_type": "markdown",
   "metadata": {},
   "source": [
    "## Add Pivot Table\n",
    "\n",
    "```vbnet\n",
    "Sheets.Add\n",
    "ActiveWorkbook.PivotCaches.Create(SourceType:=xlDatabase, SourceData:= _\n",
    "    \"data!R1C1:R1001C4\", Version:=6).CreatePivotTable TableDestination:= _\n",
    "    \"Sheet1!R3C1\", TableName:=\"PivotTable1\", DefaultVersion:=6\n",
    "```"
   ]
  },
  {
   "cell_type": "markdown",
   "metadata": {},
   "source": [
    "## Select Worksheet, Rename, Select Cells, Select Range\n",
    "\n",
    "```vbnet\n",
    "Sheets(\"Sheet1\").Select\n",
    "Sheets(\"Sheet1\").Name = \"pivot_table\"\n",
    "Cells(3, 1).Select\n",
    "Range(\"A3\").Select\n",
    "```"
   ]
  },
  {
   "cell_type": "markdown",
   "metadata": {},
   "source": [
    "## Create Filters\n",
    "\n",
    "```vbnet\n",
    "With ActiveSheet.PivotTables(\"PivotTable1\").PivotFields(\"date\")\n",
    "    .Orientation = xlPageField\n",
    "    .Position = 1\n",
    "```"
   ]
  },
  {
   "cell_type": "markdown",
   "metadata": {},
   "source": [
    "## Create Columns\n",
    "\n",
    "```vbnet\n",
    "With ActiveSheet.PivotTables(\"PivotTable1\").PivotFields(\"products\")\n",
    "    .Orientation = xlColumnField\n",
    "    .Position = 1\n",
    "```"
   ]
  },
  {
   "cell_type": "markdown",
   "metadata": {},
   "source": [
    "## Create Rows\n",
    "\n",
    "```vbnet\n",
    "With ActiveSheet.PivotTables(\"PivotTable1\").PivotFields(\"expense\")\n",
    "    .Orientation = xlRowField\n",
    "    .Position = 1\n",
    "```"
   ]
  },
  {
   "cell_type": "markdown",
   "metadata": {},
   "source": [
    "## Create Values"
   ]
  },
  {
   "cell_type": "markdown",
   "metadata": {},
   "source": [
    "### Price Sum\n",
    "\n",
    "```vbnet\n",
    "ActiveSheet.PivotTables(\"PivotTable1\").AddDataField ActiveSheet.PivotTables( _\n",
    "    \"PivotTable1\").PivotFields(\"price\"), \"Sum of price\", xlSum\n",
    "With ActiveSheet.PivotTables(\"PivotTable1\").PivotFields(\"Sum of price\")\n",
    "    .Caption = \"price: sum\"\n",
    "    .NumberFormat = \"$#,##0.00\"\n",
    "```"
   ]
  },
  {
   "cell_type": "markdown",
   "metadata": {},
   "source": [
    "### Price Mean\n",
    "\n",
    "```vbnet\n",
    "ActiveSheet.PivotTables(\"PivotTable1\").AddDataField ActiveSheet.PivotTables( _\n",
    "    \"PivotTable1\").PivotFields(\"price\"), \"Sum of price\", xlSum\n",
    "With ActiveSheet.PivotTables(\"PivotTable1\").PivotFields(\"Sum of price\")\n",
    "    .Caption = \"price: mean\"\n",
    "    .Function = xlAverage\n",
    "    .NumberFormat = \"$#,##0.00\"\n",
    "```"
   ]
  },
  {
   "cell_type": "markdown",
   "metadata": {},
   "source": [
    "### Price Count\n",
    "\n",
    "```vbnet\n",
    "ActiveSheet.PivotTables(\"PivotTable1\").AddDataField ActiveSheet.PivotTables( _\n",
    "    \"PivotTable1\").PivotFields(\"price\"), \"Sum of price\", xlSum\n",
    "With ActiveSheet.PivotTables(\"PivotTable1\").PivotFields(\"Sum of price\")\n",
    "    .Caption = \"price: count\"\n",
    "    .Function = xlCount\n",
    "    .NumberFormat = \"0\"\n",
    "```"
   ]
  },
  {
   "cell_type": "markdown",
   "metadata": {},
   "source": [
    "# Resources\n",
    "\n",
    "- [Automate Excel with Python][1]\n",
    "  - Examples with Pivot Table\n",
    "- [Using Python win32com to get list of Excel worksheets][2]\n",
    "- [How to create a pivot table in Excel with python win32com][6]\n",
    "- [Excel VBA reference][3]\n",
    "- [Workbook object (Excel)][4]\n",
    "- [Worksheet object (Excel)][5]\n",
    "- [Excel Clipboard to DataFrame][7]\n",
    "\n",
    "\n",
    "  [1]: https://github.com/trenton3983/Excel_Automation_with_Python\n",
    "  [2]: https://stackoverflow.com/questions/62505403/using-python-win32com-to-get-list-of-excel-worksheets\n",
    "  [3]: https://docs.microsoft.com/en-us/office/vba/api/overview/excel\n",
    "  [4]: https://docs.microsoft.com/en-us/office/vba/api/excel.workbook\n",
    "  [5]: https://docs.microsoft.com/en-us/office/vba/api/excel.worksheet\n",
    "  [6]: https://stackoverflow.com/questions/62509367/how-to-create-a-pivot-table-in-excel-with-python-win32com\n",
    "  [7]: https://github.com/trenton3983/Excel_Automation_with_Python/blob/master/General/excel_clipboard_to_dataframe.ipynb"
   ]
  }
 ],
 "metadata": {
  "kernelspec": {
   "display_name": "Python 3 (ipykernel)",
   "language": "python",
   "name": "python3"
  },
  "language_info": {
   "codemirror_mode": {
    "name": "ipython",
    "version": 3
   },
   "file_extension": ".py",
   "mimetype": "text/x-python",
   "name": "python",
   "nbconvert_exporter": "python",
   "pygments_lexer": "ipython3",
   "version": "3.11.5"
  }
 },
 "nbformat": 4,
 "nbformat_minor": 4
}
